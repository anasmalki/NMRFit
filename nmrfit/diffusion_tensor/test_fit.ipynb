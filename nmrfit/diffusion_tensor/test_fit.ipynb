{
 "cells": [
  {
   "cell_type": "code",
   "execution_count": 20,
   "metadata": {},
   "outputs": [],
   "source": [
    "import nmrfit\n",
    "from pathlib import Path"
   ]
  },
  {
   "cell_type": "code",
   "execution_count": null,
   "metadata": {},
   "outputs": [],
   "source": []
  },
  {
   "cell_type": "code",
   "execution_count": 19,
   "metadata": {},
   "outputs": [],
   "source": [
    "from nmrfit.diffusion_tensor.difftens import run_fit_difftens, run_fit_difftens_intmol"
   ]
  },
  {
   "cell_type": "code",
   "execution_count": null,
   "metadata": {},
   "outputs": [],
   "source": []
  },
  {
   "cell_type": "code",
   "execution_count": 18,
   "metadata": {},
   "outputs": [
    {
     "ename": "TypeError",
     "evalue": "run_fit_difftens() missing 9 required positional arguments: 'relaxation_input', 'NH_bond_vectors_input', 'start_residue', 'end_residue', 'excluded', 'fields', 'model', 'method', and 'nb_iter'",
     "output_type": "error",
     "traceback": [
      "\u001b[1;31m---------------------------------------------------------------------------\u001b[0m",
      "\u001b[1;31mTypeError\u001b[0m                                 Traceback (most recent call last)",
      "\u001b[1;32mc:\\Users\\Anas\\Desktop\\PhD 2023\\Data\\SDM\\package_anas\\nmrfit\\nmrfit\\diffusion_tensor\\test_fit.ipynb Cell 3\u001b[0m line \u001b[0;36m1\n\u001b[1;32m----> <a href='vscode-notebook-cell:/c%3A/Users/Anas/Desktop/PhD%202023/Data/SDM/package_anas/nmrfit/nmrfit/diffusion_tensor/test_fit.ipynb#W2sZmlsZQ%3D%3D?line=0'>1</a>\u001b[0m run_fit_difftens()\n",
      "\u001b[1;31mTypeError\u001b[0m: run_fit_difftens() missing 9 required positional arguments: 'relaxation_input', 'NH_bond_vectors_input', 'start_residue', 'end_residue', 'excluded', 'fields', 'model', 'method', and 'nb_iter'"
     ]
    }
   ],
   "source": [
    "run_fit_difftens()"
   ]
  }
 ],
 "metadata": {
  "kernelspec": {
   "display_name": "base",
   "language": "python",
   "name": "python3"
  },
  "language_info": {
   "codemirror_mode": {
    "name": "ipython",
    "version": 3
   },
   "file_extension": ".py",
   "mimetype": "text/x-python",
   "name": "python",
   "nbconvert_exporter": "python",
   "pygments_lexer": "ipython3",
   "version": "3.9.13"
  }
 },
 "nbformat": 4,
 "nbformat_minor": 2
}
